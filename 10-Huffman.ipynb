{
 "cells": [
  {
   "cell_type": "code",
   "execution_count": 10,
   "metadata": {},
   "outputs": [],
   "source": [
    "from collections import Counter"
   ]
  },
  {
   "cell_type": "code",
   "execution_count": 11,
   "metadata": {},
   "outputs": [],
   "source": [
    "#every node object will have two children, otherwise is a leave\n",
    "class Node(object):\n",
    "    def __init__(self, left=None, right=None):\n",
    "        self.left = left\n",
    "        self.right = right\n",
    "    \n",
    "    def getChild(self):\n",
    "        return self.left, self.right"
   ]
  },
  {
   "cell_type": "code",
   "execution_count": 12,
   "metadata": {},
   "outputs": [],
   "source": [
    "def get_code(node, code = ''):\n",
    "    \n",
    "    if type(node) is str:\n",
    "        #stop!!!\n",
    "        return {node : code}\n",
    "    \n",
    "    #get the children\n",
    "    left, right = node.getChild()\n",
    "  \n",
    "    #recursive function\n",
    "    huffman_code = dict()\n",
    "    huffman_code.update(get_code(left, code+'0'))\n",
    "    huffman_code.update(get_code(right, code+'1'))\n",
    "    \n",
    "    return huffman_code"
   ]
  },
  {
   "cell_type": "code",
   "execution_count": 13,
   "metadata": {},
   "outputs": [],
   "source": [
    "def decode(huffman_code, msg_encoded):\n",
    "    print(\"Huffman code: \", huffman_code)\n",
    "    print(\"Encoded message:\", msg_encoded)\n",
    "\n",
    "    key_list = list(huffman_code.keys())\n",
    "    val_list = list(huffman_code.values())\n",
    "\n",
    "    temp_list = []\n",
    "    msg = []\n",
    "\n",
    "    for j in range(len(msg_encoded)):\n",
    "        temp_list.append(msg_encoded[j])\n",
    "        res2 = \"\".join([str(item) for item in temp_list])\n",
    "        for k in range(len(val_list)):\n",
    "            if (res2 == val_list[k]):\n",
    "                index = val_list.index(res2)\n",
    "                char = key_list[index]\n",
    "                msg.append(char)\n",
    "                temp_list = []\n",
    "\n",
    "    ori_msg = \"\".join([str(item) for item in msg])\n",
    "    print(\"Original message:\", ori_msg)\n",
    "    \n",
    "    return ori_msg"
   ]
  },
  {
   "cell_type": "code",
   "execution_count": 14,
   "metadata": {},
   "outputs": [],
   "source": [
    "def calculateTotalCost(huffman_code):\n",
    "    msg_cost = 0\n",
    "    table_cost = 0\n",
    "    total_cost = 0\n",
    "    key_list = list(huffman_code.keys())\n",
    "    val_list = list(huffman_code.values())\n",
    "\n",
    "    # msg_cost = sum of (freq x bit), table_cost = sum of (8+bit)\n",
    "    for i in range(len(key_list)):\n",
    "        freq = freqs[key_list[i]]\n",
    "        num_bit = len(huffman_code.get(key_list[i]))\n",
    "        msg_cost = msg_cost + (freq * num_bit)\n",
    "        table_cost = table_cost + (8 + num_bit)\n",
    "        # print(\"key_list:\", key_list[i], \" freq:\",freq, \" num_bit:\", num_bit)\n",
    "    total_cost = msg_cost + table_cost\n",
    "    return total_cost"
   ]
  },
  {
   "cell_type": "code",
   "execution_count": 15,
   "metadata": {},
   "outputs": [],
   "source": [
    "def make_the_tree(freqs_sorted):\n",
    "    \n",
    "    #as long as freqs_sorted.length > 1\n",
    "    while len(freqs_sorted) > 1:\n",
    "        \n",
    "        #combine the two smallest one\n",
    "        key1, value1 =  freqs_sorted[0]\n",
    "        key2, value2 =  freqs_sorted[1]\n",
    "        \n",
    "        #delete them\n",
    "        freqs_sorted = freqs_sorted[2:]\n",
    "        \n",
    "        #add the new combination to freqs_sorted\n",
    "        new_value = value1 + value2\n",
    "        new_node  = Node(key1, key2)\n",
    "        \n",
    "        #add to freqs_sorted\n",
    "        freqs_sorted.append((new_node, new_value))\n",
    "                \n",
    "        #sort again!!\n",
    "        freqs_sorted = sorted(freqs_sorted, key=lambda item: item[1])\n",
    "\n",
    "    return freqs_sorted[0][0]\n",
    "    #return root node (so we can use this generating coding....)\n"
   ]
  },
  {
   "cell_type": "code",
   "execution_count": 16,
   "metadata": {},
   "outputs": [],
   "source": [
    "#input\n",
    "message = 'AAABBBBBBEEEDABEEDCC'\n",
    "\n",
    "#count the letters\n",
    "#use Counter, then convert to dictionary\n",
    "freqs = dict(Counter(message)) #{'A': 4, 'B': 7, 'E': 5, 'D': 2, 'C': 2}\n",
    "# print(freqs['A'])  #4\n",
    "\n",
    "#sort them from smallest to biggest\n",
    "#{'C': 2, 'D': 2, 'A': 4, 'E': 5, 'A': 7}\n",
    "freqs_sorted = sorted(freqs.items(), key=lambda item: item[1])\n",
    "\n",
    "#make the tree by combining the smallest one, and delete those guys\n",
    "root = make_the_tree(freqs_sorted)\n",
    "\n",
    "#get the code\n",
    "huffman_code = get_code(root)\n",
    "\n",
    "#print the code\n",
    "#print(huffman_code)\n",
    "#{'A': '01'; 'B': '11'; 'C': '000'; 'D': '001'; 'E': '10'}\n"
   ]
  },
  {
   "cell_type": "code",
   "execution_count": 17,
   "metadata": {},
   "outputs": [],
   "source": [
    "#encode for original message \n",
    "msg_code = []\n",
    "for i in range(len(message)):\n",
    "    msg_code.append(huffman_code[message[i]])\n",
    "msg_encoded = \"\".join([str(item) for item in msg_code])"
   ]
  },
  {
   "cell_type": "code",
   "execution_count": 18,
   "metadata": {},
   "outputs": [
    {
     "name": "stdout",
     "output_type": "stream",
     "text": [
      "Huffman code:  {'A': '00', 'D': '010', 'C': '011', 'E': '10', 'B': '11'}\n",
      "Encoded message: 00000011111111111110101001000111010010011011\n",
      "Original message: AAABBBBBBEEEDABEEDCC\n",
      "Total cost: 96\n"
     ]
    }
   ],
   "source": [
    "#task1: decode the encoded message to the original message\n",
    "original_message = decode(huffman_code, msg_encoded)\n",
    "\n",
    "#task2: calculate the total cost --> message + table\n",
    "print(\"Total cost:\", calculateTotalCost(huffman_code))"
   ]
  }
 ],
 "metadata": {
  "kernelspec": {
   "display_name": "Python 3.9.12 ('base')",
   "language": "python",
   "name": "python3"
  },
  "language_info": {
   "codemirror_mode": {
    "name": "ipython",
    "version": 3
   },
   "file_extension": ".py",
   "mimetype": "text/x-python",
   "name": "python",
   "nbconvert_exporter": "python",
   "pygments_lexer": "ipython3",
   "version": "3.9.12"
  },
  "orig_nbformat": 4,
  "vscode": {
   "interpreter": {
    "hash": "1dff52ed5eb66d41db6b0821688acfe26c27aab3cd0947c44ec1f7cfc331699e"
   }
  }
 },
 "nbformat": 4,
 "nbformat_minor": 2
}
