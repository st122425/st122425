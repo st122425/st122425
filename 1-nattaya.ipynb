{
 "cells": [
  {
   "cell_type": "markdown",
   "metadata": {},
   "source": [
    "Insertion Sort"
   ]
  },
  {
   "cell_type": "code",
   "execution_count": 65,
   "metadata": {},
   "outputs": [
    {
     "name": "stdout",
     "output_type": "stream",
     "text": [
      "Ordered numbers: [1, 1, 3, 4, 9, 10, 22, 33, 100]\n"
     ]
    }
   ],
   "source": [
    "import numpy as np\n",
    "def insertsion_sort(sl):\n",
    "    num_list = len(sl)\n",
    "\n",
    "    for j in range(1, num_list):\n",
    "        key = sl[j]\n",
    "        i = j-1\n",
    "        while i >= 0 and sl[i] > key:\n",
    "            sl[i+1] = sl[i]\n",
    "            i = i-1\n",
    "        sl[i+1] = key\n",
    "        j = j+1\n",
    "\n",
    "    print(f\"Ordered numbers: {sl}\")\n",
    "\n",
    "insertsion_sort([1, 9, 10, 100, 33, 22, 1, 3, 4])\n",
    "    \n"
   ]
  },
  {
   "cell_type": "markdown",
   "metadata": {},
   "source": [
    "Merge Sort"
   ]
  },
  {
   "cell_type": "code",
   "execution_count": 75,
   "metadata": {},
   "outputs": [],
   "source": [
    "def Merge(A, p, q, r):\n",
    "    n1 = q - p + 1\n",
    "    n2 = r - q \n",
    "    L = [None] * (n1+1)\n",
    "    R = [None] * (n2+1)\n",
    "\n",
    "    i = 0\n",
    "    j = 0\n",
    "    for i in range(n1):\n",
    "        L[i] = A[p + i - 1]\n",
    "    for j in range(n2):\n",
    "        R[j] = A[q + j]\n",
    "    L[n1] = float('inf')\n",
    "    R[n2] = float('inf')\n",
    "\n",
    "    i = 0\n",
    "    j = 0\n",
    "    k = p - 1\n",
    "    for k in range(k, r):\n",
    "        if L[i] <= R[j]:\n",
    "            A[k] = L[i]\n",
    "            i = i + 1\n",
    "        else: \n",
    "            A[k] = R[j]\n",
    "            j = j + 1\n",
    "    print(f\"Ordered numbers: {A}\")"
   ]
  },
  {
   "cell_type": "code",
   "execution_count": 76,
   "metadata": {},
   "outputs": [],
   "source": [
    "def Merge_sort(A, p, r):\n",
    "    if p < r:\n",
    "        q = (p + r)//2\n",
    "        Merge_sort(A, p, q)\n",
    "        Merge_sort(A, q+1, r)\n",
    "        Merge(A, p, q, r)"
   ]
  },
  {
   "cell_type": "code",
   "execution_count": 77,
   "metadata": {},
   "outputs": [
    {
     "name": "stdout",
     "output_type": "stream",
     "text": [
      "Ordered numbers: [2, 5, 4, 7, 1, 3, 2, 6]\n",
      "Ordered numbers: [2, 5, 4, 7, 1, 3, 2, 6]\n",
      "Ordered numbers: [2, 4, 5, 7, 1, 3, 2, 6]\n",
      "Ordered numbers: [2, 4, 5, 7, 1, 3, 2, 6]\n",
      "Ordered numbers: [2, 4, 5, 7, 1, 3, 2, 6]\n",
      "Ordered numbers: [2, 4, 5, 7, 1, 2, 3, 6]\n",
      "Ordered numbers: [1, 2, 2, 3, 4, 5, 6, 7]\n"
     ]
    }
   ],
   "source": [
    "\n",
    "Merge_sort([5, 2, 4, 7, 1, 3, 2, 6], 1, 8)\n",
    "\n"
   ]
  }
 ],
 "metadata": {
  "kernelspec": {
   "display_name": "Python 3.9.12 ('base')",
   "language": "python",
   "name": "python3"
  },
  "language_info": {
   "codemirror_mode": {
    "name": "ipython",
    "version": 3
   },
   "file_extension": ".py",
   "mimetype": "text/x-python",
   "name": "python",
   "nbconvert_exporter": "python",
   "pygments_lexer": "ipython3",
   "version": "3.9.12"
  },
  "orig_nbformat": 4,
  "vscode": {
   "interpreter": {
    "hash": "1dff52ed5eb66d41db6b0821688acfe26c27aab3cd0947c44ec1f7cfc331699e"
   }
  }
 },
 "nbformat": 4,
 "nbformat_minor": 2
}
