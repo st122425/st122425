{
 "cells": [
  {
   "cell_type": "code",
   "execution_count": 6,
   "metadata": {},
   "outputs": [],
   "source": [
    "G = {\n",
    "    0 : [[0,0], [1,2], [2,2], [3,5], [4,3]],\n",
    "    1 : [[0,2], [1,0], [2,1], [3,4], [4,4]],\n",
    "    2 : [[0,2], [1,1], [2,0], [3,3], [4,5]],\n",
    "    3 : [[0,5], [1,4], [2,3], [3,0], [4,9]],\n",
    "    4 : [[0,3], [1,4], [2,5], [4,0], [3,9]],\n",
    "}"
   ]
  },
  {
   "cell_type": "code",
   "execution_count": 7,
   "metadata": {},
   "outputs": [],
   "source": [
    "INF = 9999\n",
    "N   = 5\n",
    "#r.key = 0\n",
    "r   = 0\n",
    "\n",
    "# put all vertex into the queue\n",
    "# for each vertex\n",
    "# set key = infinity\n",
    "from heapdict import heapdict  # pip install heapdict or conda install heapdict\n",
    "\n",
    "Q = heapdict()\n",
    "for i in range(N):\n",
    "    Q[i] = INF\n",
    "Q[r] = 0"
   ]
  },
  {
   "cell_type": "code",
   "execution_count": 8,
   "metadata": {},
   "outputs": [],
   "source": [
    "# set pi  = NIL\n",
    "# pi = [None, None, None, None, None]\n",
    "pi = [None] * 5\n",
    "# set the pi of r = -1 or anything you like\n",
    "pi[r] = -1\n",
    "#print(f\"PI: {pi}\")"
   ]
  },
  {
   "cell_type": "code",
   "execution_count": 9,
   "metadata": {},
   "outputs": [],
   "source": [
    "def adj(G, u):\n",
    "    neighbors = []\n",
    "    #for each vertex\n",
    "    for v in range(N):\n",
    "        y = G[u][v][0]\n",
    "        #append to the neighbors\n",
    "        neighbors.append(y)\n",
    "    return neighbors"
   ]
  },
  {
   "cell_type": "code",
   "execution_count": 10,
   "metadata": {},
   "outputs": [],
   "source": [
    "def v_in_Q(Q, v):\n",
    "    #get the keys in Q\n",
    "    keys = list(Q.keys())   #you can actually do if v in Q:\n",
    "    #check if v in keys\n",
    "    return v in keys"
   ]
  },
  {
   "cell_type": "code",
   "execution_count": 11,
   "metadata": {},
   "outputs": [
    {
     "name": "stdout",
     "output_type": "stream",
     "text": [
      "pi:  [-1, 2, 0, 2, 0]\n"
     ]
    }
   ],
   "source": [
    "# while Q is not empty\n",
    "while(Q):\n",
    "    #u = extract_min  (dict has no extract_min)\n",
    "    #u  = Q.popitem()[0]\n",
    "    u  = Q.popitem()[0]\n",
    "    \n",
    "    # for v in adj[u]\n",
    "    for v in adj(G, u):\n",
    "        #if v in Q, and w(u, v) < v.key\n",
    "        if (v_in_Q(Q, v) and G[u][v][1] < Q[v]):\n",
    "            #v.pi = u\n",
    "            pi[v] = u\n",
    "            #v.key = w(u, v)\n",
    "            Q[v]  = G[u][v][1]\n",
    "    \n",
    "print(\"pi: \",pi)"
   ]
  }
 ],
 "metadata": {
  "kernelspec": {
   "display_name": "Python 3.9.12 ('base')",
   "language": "python",
   "name": "python3"
  },
  "language_info": {
   "codemirror_mode": {
    "name": "ipython",
    "version": 3
   },
   "file_extension": ".py",
   "mimetype": "text/x-python",
   "name": "python",
   "nbconvert_exporter": "python",
   "pygments_lexer": "ipython3",
   "version": "3.9.12"
  },
  "orig_nbformat": 4,
  "vscode": {
   "interpreter": {
    "hash": "1dff52ed5eb66d41db6b0821688acfe26c27aab3cd0947c44ec1f7cfc331699e"
   }
  }
 },
 "nbformat": 4,
 "nbformat_minor": 2
}
