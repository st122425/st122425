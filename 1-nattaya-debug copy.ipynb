{
 "cells": [
  {
   "cell_type": "markdown",
   "metadata": {},
   "source": [
    "Insertion Sort"
   ]
  },
  {
   "cell_type": "code",
   "execution_count": 54,
   "metadata": {},
   "outputs": [
    {
     "name": "stdout",
     "output_type": "stream",
     "text": [
      "Ordered numbers: [1, 1, 3, 4, 9, 10, 22, 33, 100]\n"
     ]
    }
   ],
   "source": [
    "import numpy as np\n",
    "def insertsion_sort(sl):\n",
    "    #sl = [5, 6, 11, 10, 11, 100, 33, 55, 44]\n",
    "    num_list = len(sl)\n",
    "\n",
    "    for j in range(1, num_list):\n",
    "        key = sl[j]\n",
    "        i = j-1\n",
    "        while i >= 0 and sl[i] > key:\n",
    "            sl[i+1] = sl[i]\n",
    "            i = i-1\n",
    "        sl[i+1] = key\n",
    "        j = j+1\n",
    "\n",
    "    print(f\"Ordered numbers: {sl}\")\n",
    "\n",
    "insertsion_sort([1, 9, 10, 100, 33, 22, 1, 3, 4])\n",
    "    \n"
   ]
  },
  {
   "cell_type": "markdown",
   "metadata": {},
   "source": [
    "Merge Sort"
   ]
  },
  {
   "cell_type": "code",
   "execution_count": 4,
   "metadata": {},
   "outputs": [],
   "source": [
    "def Merge(A, p, q, r):\n",
    "    n1 = q - p + 1\n",
    "    n2 = r - q\n",
    "    L = [None] * (n1+1)\n",
    "    R = [None] * (n2+1)\n",
    "    print(f\"n1:{n1}\")\n",
    "    print(f\"n2:{n2}\")\n",
    "    print(f\"L:{L}\")\n",
    "    print(f\"R:{R}\")\n",
    "    i = 1\n",
    "    j =1\n",
    "    for i in range(n1):\n",
    "        L[i] = A[p + i - 1]\n",
    "    for j in range(n2):\n",
    "        R[j] = A[q + j]\n",
    "    L[n1] = float('inf')\n",
    "    R[n2] = float('inf')\n",
    "\n",
    "    i = 1\n",
    "    j = 1\n",
    "    print(f\"L1[i]: {L}\")   \n",
    "    print(f\"R1[i]: {R}\") \n",
    "    k = p\n",
    "    for k in range(r):\n",
    "        if L[i] <= R[j]:\n",
    "            A[k] = L[i]\n",
    "            i = i + 1\n",
    "        elif A[k] == R[j]:\n",
    "            j = j + 1\n",
    "\n",
    "    print(f\"L[i]: {L}\")   \n",
    "    print(f\"R[i]: {R}\") \n",
    "    print(f\"A[i]: {A}\") "
   ]
  },
  {
   "cell_type": "code",
   "execution_count": 22,
   "metadata": {},
   "outputs": [],
   "source": [
    "def Merge_sort(A, p, r):\n",
    "    print(f\"p: {p}\")\n",
    "    print(f\"r: {r}\")\n",
    "    if p < r:\n",
    "        q = (p + r)//2\n",
    "        print(f\"q:{q}\")\n",
    "        print(\"//////////\")\n",
    "        Merge_sort(A, p, q)\n",
    "        print(\"xxxxxxxxxxxxxxxxxxxx\")\n",
    "        Merge_sort(A, q+1, r)\n",
    "        print(\"yyyyyyyyyyyyyyyyyyyy\")\n",
    "        Merge(A, p, q, r)"
   ]
  },
  {
   "cell_type": "code",
   "execution_count": 23,
   "metadata": {},
   "outputs": [
    {
     "name": "stdout",
     "output_type": "stream",
     "text": [
      "p: 1\n",
      "r: 8\n",
      "q:4\n",
      "//////////\n",
      "p: 1\n",
      "r: 4\n",
      "q:2\n",
      "//////////\n",
      "p: 1\n",
      "r: 2\n",
      "q:1\n",
      "//////////\n",
      "p: 1\n",
      "r: 1\n",
      "xxxxxxxxxxxxxxxxxxxx\n",
      "p: 2\n",
      "r: 2\n",
      "yyyyyyyyyyyyyyyyyyyy\n",
      "n1:1\n",
      "n2:1\n",
      "L:[None, None]\n",
      "R:[None, None]\n",
      "L1[i]: [5, inf]\n",
      "R1[i]: [2, inf]\n"
     ]
    },
    {
     "ename": "IndexError",
     "evalue": "list index out of range",
     "output_type": "error",
     "traceback": [
      "\u001b[0;31m---------------------------------------------------------------------------\u001b[0m",
      "\u001b[0;31mIndexError\u001b[0m                                Traceback (most recent call last)",
      "\u001b[1;32m/Users/meaw/Documents/GitHub/st122425/1-nattaya.ipynb Cell 6\u001b[0m in \u001b[0;36m<cell line: 1>\u001b[0;34m()\u001b[0m\n\u001b[0;32m----> <a href='vscode-notebook-cell:/Users/meaw/Documents/GitHub/st122425/1-nattaya.ipynb#W3sZmlsZQ%3D%3D?line=0'>1</a>\u001b[0m Merge_sort([\u001b[39m5\u001b[39;49m, \u001b[39m2\u001b[39;49m, \u001b[39m4\u001b[39;49m, \u001b[39m7\u001b[39;49m, \u001b[39m1\u001b[39;49m, \u001b[39m3\u001b[39;49m, \u001b[39m2\u001b[39;49m, \u001b[39m6\u001b[39;49m], \u001b[39m1\u001b[39;49m, \u001b[39m8\u001b[39;49m)\n",
      "\u001b[1;32m/Users/meaw/Documents/GitHub/st122425/1-nattaya.ipynb Cell 6\u001b[0m in \u001b[0;36mMerge_sort\u001b[0;34m(A, p, r)\u001b[0m\n\u001b[1;32m      <a href='vscode-notebook-cell:/Users/meaw/Documents/GitHub/st122425/1-nattaya.ipynb#W3sZmlsZQ%3D%3D?line=5'>6</a>\u001b[0m \u001b[39mprint\u001b[39m(\u001b[39mf\u001b[39m\u001b[39m\"\u001b[39m\u001b[39mq:\u001b[39m\u001b[39m{\u001b[39;00mq\u001b[39m}\u001b[39;00m\u001b[39m\"\u001b[39m)\n\u001b[1;32m      <a href='vscode-notebook-cell:/Users/meaw/Documents/GitHub/st122425/1-nattaya.ipynb#W3sZmlsZQ%3D%3D?line=6'>7</a>\u001b[0m \u001b[39mprint\u001b[39m(\u001b[39m\"\u001b[39m\u001b[39m//////////\u001b[39m\u001b[39m\"\u001b[39m)\n\u001b[0;32m----> <a href='vscode-notebook-cell:/Users/meaw/Documents/GitHub/st122425/1-nattaya.ipynb#W3sZmlsZQ%3D%3D?line=7'>8</a>\u001b[0m Merge_sort(A, p, q)\n\u001b[1;32m      <a href='vscode-notebook-cell:/Users/meaw/Documents/GitHub/st122425/1-nattaya.ipynb#W3sZmlsZQ%3D%3D?line=8'>9</a>\u001b[0m \u001b[39mprint\u001b[39m(\u001b[39m\"\u001b[39m\u001b[39mxxxxxxxxxxxxxxxxxxxx\u001b[39m\u001b[39m\"\u001b[39m)\n\u001b[1;32m     <a href='vscode-notebook-cell:/Users/meaw/Documents/GitHub/st122425/1-nattaya.ipynb#W3sZmlsZQ%3D%3D?line=9'>10</a>\u001b[0m Merge_sort(A, q\u001b[39m+\u001b[39m\u001b[39m1\u001b[39m, r)\n",
      "\u001b[1;32m/Users/meaw/Documents/GitHub/st122425/1-nattaya.ipynb Cell 6\u001b[0m in \u001b[0;36mMerge_sort\u001b[0;34m(A, p, r)\u001b[0m\n\u001b[1;32m      <a href='vscode-notebook-cell:/Users/meaw/Documents/GitHub/st122425/1-nattaya.ipynb#W3sZmlsZQ%3D%3D?line=5'>6</a>\u001b[0m \u001b[39mprint\u001b[39m(\u001b[39mf\u001b[39m\u001b[39m\"\u001b[39m\u001b[39mq:\u001b[39m\u001b[39m{\u001b[39;00mq\u001b[39m}\u001b[39;00m\u001b[39m\"\u001b[39m)\n\u001b[1;32m      <a href='vscode-notebook-cell:/Users/meaw/Documents/GitHub/st122425/1-nattaya.ipynb#W3sZmlsZQ%3D%3D?line=6'>7</a>\u001b[0m \u001b[39mprint\u001b[39m(\u001b[39m\"\u001b[39m\u001b[39m//////////\u001b[39m\u001b[39m\"\u001b[39m)\n\u001b[0;32m----> <a href='vscode-notebook-cell:/Users/meaw/Documents/GitHub/st122425/1-nattaya.ipynb#W3sZmlsZQ%3D%3D?line=7'>8</a>\u001b[0m Merge_sort(A, p, q)\n\u001b[1;32m      <a href='vscode-notebook-cell:/Users/meaw/Documents/GitHub/st122425/1-nattaya.ipynb#W3sZmlsZQ%3D%3D?line=8'>9</a>\u001b[0m \u001b[39mprint\u001b[39m(\u001b[39m\"\u001b[39m\u001b[39mxxxxxxxxxxxxxxxxxxxx\u001b[39m\u001b[39m\"\u001b[39m)\n\u001b[1;32m     <a href='vscode-notebook-cell:/Users/meaw/Documents/GitHub/st122425/1-nattaya.ipynb#W3sZmlsZQ%3D%3D?line=9'>10</a>\u001b[0m Merge_sort(A, q\u001b[39m+\u001b[39m\u001b[39m1\u001b[39m, r)\n",
      "\u001b[1;32m/Users/meaw/Documents/GitHub/st122425/1-nattaya.ipynb Cell 6\u001b[0m in \u001b[0;36mMerge_sort\u001b[0;34m(A, p, r)\u001b[0m\n\u001b[1;32m     <a href='vscode-notebook-cell:/Users/meaw/Documents/GitHub/st122425/1-nattaya.ipynb#W3sZmlsZQ%3D%3D?line=9'>10</a>\u001b[0m Merge_sort(A, q\u001b[39m+\u001b[39m\u001b[39m1\u001b[39m, r)\n\u001b[1;32m     <a href='vscode-notebook-cell:/Users/meaw/Documents/GitHub/st122425/1-nattaya.ipynb#W3sZmlsZQ%3D%3D?line=10'>11</a>\u001b[0m \u001b[39mprint\u001b[39m(\u001b[39m\"\u001b[39m\u001b[39myyyyyyyyyyyyyyyyyyyy\u001b[39m\u001b[39m\"\u001b[39m)\n\u001b[0;32m---> <a href='vscode-notebook-cell:/Users/meaw/Documents/GitHub/st122425/1-nattaya.ipynb#W3sZmlsZQ%3D%3D?line=11'>12</a>\u001b[0m Merge(A, p, q, r)\n",
      "\u001b[1;32m/Users/meaw/Documents/GitHub/st122425/1-nattaya.ipynb Cell 6\u001b[0m in \u001b[0;36mMerge\u001b[0;34m(A, p, q, r)\u001b[0m\n\u001b[1;32m     <a href='vscode-notebook-cell:/Users/meaw/Documents/GitHub/st122425/1-nattaya.ipynb#W3sZmlsZQ%3D%3D?line=22'>23</a>\u001b[0m k \u001b[39m=\u001b[39m p\n\u001b[1;32m     <a href='vscode-notebook-cell:/Users/meaw/Documents/GitHub/st122425/1-nattaya.ipynb#W3sZmlsZQ%3D%3D?line=23'>24</a>\u001b[0m \u001b[39mfor\u001b[39;00m k \u001b[39min\u001b[39;00m \u001b[39mrange\u001b[39m(r):\n\u001b[0;32m---> <a href='vscode-notebook-cell:/Users/meaw/Documents/GitHub/st122425/1-nattaya.ipynb#W3sZmlsZQ%3D%3D?line=24'>25</a>\u001b[0m     \u001b[39mif\u001b[39;00m L[i] \u001b[39m<\u001b[39m\u001b[39m=\u001b[39m R[j]:\n\u001b[1;32m     <a href='vscode-notebook-cell:/Users/meaw/Documents/GitHub/st122425/1-nattaya.ipynb#W3sZmlsZQ%3D%3D?line=25'>26</a>\u001b[0m         A[k] \u001b[39m=\u001b[39m L[i]\n\u001b[1;32m     <a href='vscode-notebook-cell:/Users/meaw/Documents/GitHub/st122425/1-nattaya.ipynb#W3sZmlsZQ%3D%3D?line=26'>27</a>\u001b[0m         i \u001b[39m=\u001b[39m i \u001b[39m+\u001b[39m \u001b[39m1\u001b[39m\n",
      "\u001b[0;31mIndexError\u001b[0m: list index out of range"
     ]
    }
   ],
   "source": [
    "\n",
    "Merge_sort([5, 2, 4, 7, 1, 3, 2, 6], 1, 8)\n",
    "\n"
   ]
  }
 ],
 "metadata": {
  "kernelspec": {
   "display_name": "Python 3.9.12 ('base')",
   "language": "python",
   "name": "python3"
  },
  "language_info": {
   "codemirror_mode": {
    "name": "ipython",
    "version": 3
   },
   "file_extension": ".py",
   "mimetype": "text/x-python",
   "name": "python",
   "nbconvert_exporter": "python",
   "pygments_lexer": "ipython3",
   "version": "3.9.12"
  },
  "orig_nbformat": 4,
  "vscode": {
   "interpreter": {
    "hash": "1dff52ed5eb66d41db6b0821688acfe26c27aab3cd0947c44ec1f7cfc331699e"
   }
  }
 },
 "nbformat": 4,
 "nbformat_minor": 2
}
