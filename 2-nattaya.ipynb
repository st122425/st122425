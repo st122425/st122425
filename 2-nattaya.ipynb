{
 "cells": [
  {
   "cell_type": "markdown",
   "metadata": {},
   "source": [
    "Program the maximum subarry problem in python"
   ]
  },
  {
   "cell_type": "code",
   "execution_count": 1,
   "metadata": {},
   "outputs": [],
   "source": [
    "def findMaxCrossSubArray(A, low, mid, high):\n",
    "    left_sum = float('-inf')\n",
    "    sum = 0\n",
    "    for i in reversed(range(low, mid+1)):\n",
    "        sum = sum + A[i]\n",
    "        if(sum > left_sum):\n",
    "            left_sum = sum\n",
    "            max_left = i\n",
    "\n",
    "    right_sum = float('-inf')\n",
    "    sum = 0\n",
    "    for j in range(mid+1, high+1):\n",
    "        sum = sum + A[j]\n",
    "        if(sum > right_sum):\n",
    "            right_sum = sum\n",
    "            max_right = j\n",
    "    bigest_sum = left_sum + right_sum \n",
    "    return max_left, max_right, bigest_sum"
   ]
  },
  {
   "cell_type": "code",
   "execution_count": 2,
   "metadata": {},
   "outputs": [],
   "source": [
    "def findMaxSubArray(A, low, high):\n",
    "    if(high == low):\n",
    "        return low, high, A[low];\n",
    "    else:\n",
    "        mid = (low + high)//2\n",
    "        left_low, left_high, left_sum = findMaxSubArray(A, low, mid)\n",
    "        right_low, right_high, right_sum = findMaxSubArray(A, mid + 1, high)\n",
    "        cross_low, cross_high, cross_sum = findMaxCrossSubArray(A, low, mid, high)\n",
    "        if((left_sum >= right_sum) & (left_sum  >= cross_sum)):\n",
    "            return left_low, left_high, left_sum\n",
    "        elif((right_sum >= left_sum) & (right_sum >= cross_sum)):\n",
    "            return right_low, right_high, right_sum\n",
    "        else: return cross_low, cross_high, cross_sum     \n",
    "\n"
   ]
  },
  {
   "cell_type": "code",
   "execution_count": 3,
   "metadata": {},
   "outputs": [
    {
     "name": "stdout",
     "output_type": "stream",
     "text": [
      "start index: 4\n",
      "end index: 5\n",
      "maximum sum: 7\n"
     ]
    }
   ],
   "source": [
    "\n",
    "a, b, c = findMaxSubArray([2, -1, 4, -5, 4, 3], 0, 5 )\n",
    "print(f\"start index: {a}\")\n",
    "print(f\"end index: {b}\")\n",
    "print(f\"maximum sum: {c}\")"
   ]
  },
  {
   "cell_type": "markdown",
   "metadata": {},
   "source": [
    "Plot actual time spent and compare it with the theoretical complexity."
   ]
  },
  {
   "cell_type": "code",
   "execution_count": 51,
   "metadata": {},
   "outputs": [
    {
     "data": {
      "image/png": "[encoded data removed]",
      "text/plain": [
       "<Figure size 432x288 with 1 Axes>"
      ]
     },
     "metadata": {
      "needs_background": "light"
     },
     "output_type": "display_data"
    }
   ],
   "source": [
    "from random import sample\n",
    "from timeit import timeit\n",
    "import matplotlib.pyplot as plt\n",
    "import numpy as np\n",
    "\n",
    "\n",
    "# The range of n will be between 10 and 1000 with a growth rate of 10 per iteration\n",
    "num_samples = range(10, 1000, 10)\n",
    "\n",
    "n = 8\n",
    "\n",
    "# The constant value c shows somewhat of a match between nlogn and the algorithm when c = 1/200000\n",
    "# This is probably true for my PC due to hardware and might be a different value for a different one\n",
    "c = 1/200000\n",
    "\n",
    "timevals = []\n",
    "y_nlogn = []\n",
    "for n in num_samples:\n",
    "    my_list = sample(range(n), n)\n",
    "    y_nlogn.append(c * n * np.log(n))\n",
    "    time = timeit('findMaxSubArray(my_list, 0, len(my_list) - 1)', number=1, globals=globals())\n",
    "    timevals.append(time)\n",
    "plt.plot(num_samples, y_nlogn, label='nlogn')\n",
    "plt.plot(num_samples, timevals, label=\"Code Runtime\")\n",
    "plt.legend()\n",
    "plt.show()"
   ]
  }
 ],
 "metadata": {
  "kernelspec": {
   "display_name": "Python 3.9.12 ('base')",
   "language": "python",
   "name": "python3"
  },
  "language_info": {
   "codemirror_mode": {
    "name": "ipython",
    "version": 3
   },
   "file_extension": ".py",
   "mimetype": "text/x-python",
   "name": "python",
   "nbconvert_exporter": "python",
   "pygments_lexer": "ipython3",
   "version": "3.9.12"
  },
  "orig_nbformat": 4,
  "vscode": {
   "interpreter": {
    "hash": "1dff52ed5eb66d41db6b0821688acfe26c27aab3cd0947c44ec1f7cfc331699e"
   }
  }
 },
 "nbformat": 4,
 "nbformat_minor": 2
}
