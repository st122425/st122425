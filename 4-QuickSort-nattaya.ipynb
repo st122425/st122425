{
 "cells": [
  {
   "cell_type": "code",
   "execution_count": 71,
   "metadata": {},
   "outputs": [],
   "source": [
    "def partition(A, p, r): \n",
    "    x = A[r]\n",
    "    # print(f\"A[r]: {A[r]}\")\n",
    "    i = p - 1 \n",
    "    for j in range(p, r):\n",
    "        if(A[j] <= x):\n",
    "            i = i + 1\n",
    "            temp = A[i]\n",
    "            A[i] = A[j]\n",
    "            A[j] = temp\n",
    "    temp = A[r]\n",
    "    A[r] = A[i+1]\n",
    "    A[i+1] = temp\n",
    "    return i+1"
   ]
  },
  {
   "cell_type": "code",
   "execution_count": 76,
   "metadata": {},
   "outputs": [],
   "source": [
    "import random\n",
    "import numpy as np\n",
    "\n",
    "def quickSort(A, p, r):\n",
    "    if p < r:\n",
    "        q = partition(A, p, r)\n",
    "        # print(f\"q: {q}\")\n",
    "        # print(f\"A[q]: {A[q]}\")\n",
    "        \n",
    "        quickSort(A, p, q-1)\n",
    "        quickSort(A, q+1, r)\n",
    "    # print(f\"quickSort: {A}\")\n",
    "    return A"
   ]
  },
  {
   "cell_type": "code",
   "execution_count": 77,
   "metadata": {},
   "outputs": [
    {
     "name": "stdout",
     "output_type": "stream",
     "text": [
      "Original: [19, 98, 77, 70, 96, 74, 87]\n",
      "quickSort: [19, 70, 74, 77, 87, 96, 98]\n"
     ]
    }
   ],
   "source": [
    "# quickSort([7, 8, 6, 10, 1, -10, 7], 0, 6)\n",
    "# quickSort([15, 13, 9, 5, 12, 8, 7, 11], 0, 7)\n",
    "A = []\n",
    "# A.append(0)\n",
    "for i in range(1,8):\n",
    "    A.append(random.randint(0,99))\n",
    "print(f\"Original: {A}\")\n",
    "p = 0\n",
    "r = len(A)-1\n",
    "\n",
    "A = quickSort(A, p, r)\n",
    "print(f\"quickSort: {A}\")"
   ]
  }
 ],
 "metadata": {
  "kernelspec": {
   "display_name": "Python 3.9.12 ('base')",
   "language": "python",
   "name": "python3"
  },
  "language_info": {
   "codemirror_mode": {
    "name": "ipython",
    "version": 3
   },
   "file_extension": ".py",
   "mimetype": "text/x-python",
   "name": "python",
   "nbconvert_exporter": "python",
   "pygments_lexer": "ipython3",
   "version": "3.9.12"
  },
  "orig_nbformat": 4,
  "vscode": {
   "interpreter": {
    "hash": "1dff52ed5eb66d41db6b0821688acfe26c27aab3cd0947c44ec1f7cfc331699e"
   }
  }
 },
 "nbformat": 4,
 "nbformat_minor": 2
}
