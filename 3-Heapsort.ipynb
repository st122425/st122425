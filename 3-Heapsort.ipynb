{
 "cells": [
  {
   "cell_type": "code",
   "execution_count": 28,
   "metadata": {},
   "outputs": [],
   "source": [
    "def parent(i):\n",
    "    return i//2\n",
    "\n",
    "def left(i):\n",
    "    return 2 * i\n",
    "\n",
    "def right(i):\n",
    "    return (2 * i) + 1"
   ]
  },
  {
   "cell_type": "code",
   "execution_count": 38,
   "metadata": {},
   "outputs": [],
   "source": [
    "def max_heapify(A, i):\n",
    "    l = left(i)\n",
    "    r = right(i)\n",
    "    heap_size = len(A)\n",
    "    print(f\"heap_size: {heap_size}\")\n",
    "    print(f\"l: {l}\")\n",
    "    if (l < heap_size) & (A[l] > A[i]):\n",
    "        largest = l\n",
    "    else: larget = i\n",
    "\n",
    "    if (r <= heap_size) & (A[r] > A[larget]):\n",
    "        largest = r\n",
    "    if (largest != i):\n",
    "        temp = A[i]\n",
    "        A[i] = A[largest]\n",
    "        A[largest] = temp\n",
    "        max_heapify(A, largest)"
   ]
  },
  {
   "cell_type": "code",
   "execution_count": 40,
   "metadata": {},
   "outputs": [],
   "source": [
    "def build_max_heap(A):\n",
    "    print(A)\n",
    "    heap_size = len(A)\n",
    "    print(f\"heap_size = {heap_size}\")\n",
    "    for i in reversed(range(1, len(A)//2)):\n",
    "        print(f\"i: {i}\")\n",
    "        max_heapify(A, i)\n",
    "    "
   ]
  },
  {
   "cell_type": "code",
   "execution_count": 32,
   "metadata": {},
   "outputs": [],
   "source": [
    "from audioop import reverse\n",
    "import numpy as np\n",
    "\n",
    "def heapsort(A):\n",
    "    build_max_heap(A)\n",
    "    heap_size = len(A)\n",
    "\n",
    "    for i in reversed(range(2, len(A))):\n",
    "        temp = A[1]\n",
    "        A[1] = A[i]\n",
    "        A[i] = temp\n",
    "        heap_size = heap_size - 1\n",
    "        max_heapify(A, 1)\n",
    "    \n",
    "    print(A)\n",
    "\n"
   ]
  },
  {
   "cell_type": "code",
   "execution_count": 41,
   "metadata": {},
   "outputs": [
    {
     "name": "stdout",
     "output_type": "stream",
     "text": [
      "[5, 13, 2, 25, 7]\n",
      "heap_size = 5\n",
      "i: 1\n",
      "heap_size: 5\n",
      "l: 2\n",
      "heap_size: 5\n",
      "l: 6\n"
     ]
    },
    {
     "ename": "IndexError",
     "evalue": "list index out of range",
     "output_type": "error",
     "traceback": [
      "\u001b[0;31m---------------------------------------------------------------------------\u001b[0m",
      "\u001b[0;31mIndexError\u001b[0m                                Traceback (most recent call last)",
      "\u001b[1;32m/Users/meaw/Documents/GitHub/st122425/3-Heapsort.ipynb Cell 5\u001b[0m in \u001b[0;36m<cell line: 1>\u001b[0;34m()\u001b[0m\n\u001b[0;32m----> <a href='vscode-notebook-cell:/Users/meaw/Documents/GitHub/st122425/3-Heapsort.ipynb#W5sZmlsZQ%3D%3D?line=0'>1</a>\u001b[0m heapsort([\u001b[39m5\u001b[39;49m, \u001b[39m13\u001b[39;49m, \u001b[39m2\u001b[39;49m, \u001b[39m25\u001b[39;49m, \u001b[39m7\u001b[39;49m])\n",
      "\u001b[1;32m/Users/meaw/Documents/GitHub/st122425/3-Heapsort.ipynb Cell 5\u001b[0m in \u001b[0;36mheapsort\u001b[0;34m(A)\u001b[0m\n\u001b[1;32m      <a href='vscode-notebook-cell:/Users/meaw/Documents/GitHub/st122425/3-Heapsort.ipynb#W5sZmlsZQ%3D%3D?line=3'>4</a>\u001b[0m \u001b[39mdef\u001b[39;00m \u001b[39mheapsort\u001b[39m(A):\n\u001b[0;32m----> <a href='vscode-notebook-cell:/Users/meaw/Documents/GitHub/st122425/3-Heapsort.ipynb#W5sZmlsZQ%3D%3D?line=4'>5</a>\u001b[0m     build_max_heap(A)\n\u001b[1;32m      <a href='vscode-notebook-cell:/Users/meaw/Documents/GitHub/st122425/3-Heapsort.ipynb#W5sZmlsZQ%3D%3D?line=5'>6</a>\u001b[0m     heap_size \u001b[39m=\u001b[39m \u001b[39mlen\u001b[39m(A)\n\u001b[1;32m      <a href='vscode-notebook-cell:/Users/meaw/Documents/GitHub/st122425/3-Heapsort.ipynb#W5sZmlsZQ%3D%3D?line=7'>8</a>\u001b[0m     \u001b[39mfor\u001b[39;00m i \u001b[39min\u001b[39;00m \u001b[39mreversed\u001b[39m(\u001b[39mrange\u001b[39m(\u001b[39m2\u001b[39m, \u001b[39mlen\u001b[39m(A))):\n",
      "\u001b[1;32m/Users/meaw/Documents/GitHub/st122425/3-Heapsort.ipynb Cell 5\u001b[0m in \u001b[0;36mbuild_max_heap\u001b[0;34m(A)\u001b[0m\n\u001b[1;32m      <a href='vscode-notebook-cell:/Users/meaw/Documents/GitHub/st122425/3-Heapsort.ipynb#W5sZmlsZQ%3D%3D?line=4'>5</a>\u001b[0m \u001b[39mfor\u001b[39;00m i \u001b[39min\u001b[39;00m \u001b[39mreversed\u001b[39m(\u001b[39mrange\u001b[39m(\u001b[39m1\u001b[39m, \u001b[39mlen\u001b[39m(A)\u001b[39m/\u001b[39m\u001b[39m/\u001b[39m\u001b[39m2\u001b[39m)):\n\u001b[1;32m      <a href='vscode-notebook-cell:/Users/meaw/Documents/GitHub/st122425/3-Heapsort.ipynb#W5sZmlsZQ%3D%3D?line=5'>6</a>\u001b[0m     \u001b[39mprint\u001b[39m(\u001b[39mf\u001b[39m\u001b[39m\"\u001b[39m\u001b[39mi: \u001b[39m\u001b[39m{\u001b[39;00mi\u001b[39m}\u001b[39;00m\u001b[39m\"\u001b[39m)\n\u001b[0;32m----> <a href='vscode-notebook-cell:/Users/meaw/Documents/GitHub/st122425/3-Heapsort.ipynb#W5sZmlsZQ%3D%3D?line=6'>7</a>\u001b[0m     max_heapify(A, i)\n",
      "\u001b[1;32m/Users/meaw/Documents/GitHub/st122425/3-Heapsort.ipynb Cell 5\u001b[0m in \u001b[0;36mmax_heapify\u001b[0;34m(A, i)\u001b[0m\n\u001b[1;32m     <a href='vscode-notebook-cell:/Users/meaw/Documents/GitHub/st122425/3-Heapsort.ipynb#W5sZmlsZQ%3D%3D?line=14'>15</a>\u001b[0m A[i] \u001b[39m=\u001b[39m A[largest]\n\u001b[1;32m     <a href='vscode-notebook-cell:/Users/meaw/Documents/GitHub/st122425/3-Heapsort.ipynb#W5sZmlsZQ%3D%3D?line=15'>16</a>\u001b[0m A[largest] \u001b[39m=\u001b[39m temp\n\u001b[0;32m---> <a href='vscode-notebook-cell:/Users/meaw/Documents/GitHub/st122425/3-Heapsort.ipynb#W5sZmlsZQ%3D%3D?line=16'>17</a>\u001b[0m max_heapify(A, largest)\n",
      "\u001b[1;32m/Users/meaw/Documents/GitHub/st122425/3-Heapsort.ipynb Cell 5\u001b[0m in \u001b[0;36mmax_heapify\u001b[0;34m(A, i)\u001b[0m\n\u001b[1;32m      <a href='vscode-notebook-cell:/Users/meaw/Documents/GitHub/st122425/3-Heapsort.ipynb#W5sZmlsZQ%3D%3D?line=4'>5</a>\u001b[0m \u001b[39mprint\u001b[39m(\u001b[39mf\u001b[39m\u001b[39m\"\u001b[39m\u001b[39mheap_size: \u001b[39m\u001b[39m{\u001b[39;00mheap_size\u001b[39m}\u001b[39;00m\u001b[39m\"\u001b[39m)\n\u001b[1;32m      <a href='vscode-notebook-cell:/Users/meaw/Documents/GitHub/st122425/3-Heapsort.ipynb#W5sZmlsZQ%3D%3D?line=5'>6</a>\u001b[0m \u001b[39mprint\u001b[39m(\u001b[39mf\u001b[39m\u001b[39m\"\u001b[39m\u001b[39ml: \u001b[39m\u001b[39m{\u001b[39;00ml\u001b[39m}\u001b[39;00m\u001b[39m\"\u001b[39m)\n\u001b[0;32m----> <a href='vscode-notebook-cell:/Users/meaw/Documents/GitHub/st122425/3-Heapsort.ipynb#W5sZmlsZQ%3D%3D?line=6'>7</a>\u001b[0m \u001b[39mif\u001b[39;00m (l \u001b[39m<\u001b[39m heap_size) \u001b[39m&\u001b[39m (A[l] \u001b[39m>\u001b[39m A[i]):\n\u001b[1;32m      <a href='vscode-notebook-cell:/Users/meaw/Documents/GitHub/st122425/3-Heapsort.ipynb#W5sZmlsZQ%3D%3D?line=7'>8</a>\u001b[0m     largest \u001b[39m=\u001b[39m l\n\u001b[1;32m      <a href='vscode-notebook-cell:/Users/meaw/Documents/GitHub/st122425/3-Heapsort.ipynb#W5sZmlsZQ%3D%3D?line=8'>9</a>\u001b[0m \u001b[39melse\u001b[39;00m: larget \u001b[39m=\u001b[39m i\n",
      "\u001b[0;31mIndexError\u001b[0m: list index out of range"
     ]
    }
   ],
   "source": [
    "heapsort([5, 13, 2, 25, 7])"
   ]
  },
  {
   "cell_type": "code",
   "execution_count": 4,
   "metadata": {},
   "outputs": [
    {
     "name": "stdout",
     "output_type": "stream",
     "text": [
      "4\n"
     ]
    }
   ],
   "source": [
    "import numpy as np\n",
    "\n",
    "A = [1,2,3,4]\n",
    "# arrA = np.array(A)\n",
    "print(len(A))"
   ]
  }
 ],
 "metadata": {
  "kernelspec": {
   "display_name": "Python 3.9.12 ('base')",
   "language": "python",
   "name": "python3"
  },
  "language_info": {
   "codemirror_mode": {
    "name": "ipython",
    "version": 3
   },
   "file_extension": ".py",
   "mimetype": "text/x-python",
   "name": "python",
   "nbconvert_exporter": "python",
   "pygments_lexer": "ipython3",
   "version": "3.9.12"
  },
  "orig_nbformat": 4,
  "vscode": {
   "interpreter": {
    "hash": "1dff52ed5eb66d41db6b0821688acfe26c27aab3cd0947c44ec1f7cfc331699e"
   }
  }
 },
 "nbformat": 4,
 "nbformat_minor": 2
}
