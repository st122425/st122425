{
 "cells": [
  {
   "cell_type": "code",
   "execution_count": 28,
   "metadata": {},
   "outputs": [],
   "source": [
    "def parent(i):\n",
    "    return i//2\n",
    "\n",
    "def left(i):\n",
    "    return 2 * i\n",
    "\n",
    "def right(i):\n",
    "    return (2 * i) + 1"
   ]
  },
  {
   "cell_type": "code",
   "execution_count": 38,
   "metadata": {},
   "outputs": [],
   "source": [
    "def max_heapify(A, i):\n",
    "    l = left(i)\n",
    "    r = right(i)\n",
    "    heap_size = len(A)\n",
    "    # print(f\"heap_size: {heap_size}\")\n",
    "    # print(f\"l: {l}\")\n",
    "    if (l < heap_size) & (A[l] > A[i]):\n",
    "        largest = l\n",
    "    else: larget = i\n",
    "\n",
    "    if (r <= heap_size) & (A[r] > A[larget]):\n",
    "        largest = r\n",
    "    if (largest != i):\n",
    "        temp = A[i]\n",
    "        A[i] = A[largest]\n",
    "        A[largest] = temp\n",
    "        max_heapify(A, largest)"
   ]
  },
  {
   "cell_type": "code",
   "execution_count": 40,
   "metadata": {},
   "outputs": [],
   "source": [
    "def build_max_heap(A):\n",
    "    print(A)\n",
    "    heap_size = len(A)\n",
    "    print(f\"heap_size = {heap_size}\")\n",
    "    for i in reversed(range(1, len(A)//2)):\n",
    "        print(f\"i: {i}\")\n",
    "        max_heapify(A, i)\n",
    "    "
   ]
  },
  {
   "cell_type": "code",
   "execution_count": 32,
   "metadata": {},
   "outputs": [],
   "source": [
    "from audioop import reverse\n",
    "import numpy as np\n",
    "\n",
    "def heapsort(A):\n",
    "    build_max_heap(A)\n",
    "    heap_size = len(A)\n",
    "\n",
    "    for i in reversed(range(2, len(A))):\n",
    "        temp = A[1]\n",
    "        A[1] = A[i]\n",
    "        A[i] = temp\n",
    "        heap_size = heap_size - 1\n",
    "        max_heapify(A, 1)\n",
    "    \n",
    "    # print(A)\n",
    "\n"
   ]
  },
  {
   "cell_type": "code",
   "execution_count": null,
   "metadata": {},
   "outputs": [],
   "source": [
    "heapsort([5, 13, 2, 25, 7])"
   ]
  }
 ],
 "metadata": {
  "kernelspec": {
   "display_name": "Python 3.9.12 ('base')",
   "language": "python",
   "name": "python3"
  },
  "language_info": {
   "codemirror_mode": {
    "name": "ipython",
    "version": 3
   },
   "file_extension": ".py",
   "mimetype": "text/x-python",
   "name": "python",
   "nbconvert_exporter": "python",
   "pygments_lexer": "ipython3",
   "version": "3.9.12"
  },
  "orig_nbformat": 4,
  "vscode": {
   "interpreter": {
    "hash": "1dff52ed5eb66d41db6b0821688acfe26c27aab3cd0947c44ec1f7cfc331699e"
   }
  }
 },
 "nbformat": 4,
 "nbformat_minor": 2
}
