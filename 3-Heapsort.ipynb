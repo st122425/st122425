{
 "cells": [
  {
   "cell_type": "code",
   "execution_count": 49,
   "metadata": {},
   "outputs": [],
   "source": [
    "def parent(i):\n",
    "    return i//2\n",
    "\n",
    "def left(i):\n",
    "    return 2 * i\n",
    "\n",
    "def right(i):\n",
    "    return (2 * i) + 1"
   ]
  },
  {
   "cell_type": "code",
   "execution_count": 48,
   "metadata": {},
   "outputs": [],
   "source": [
    "def max_heapify(A, i, heap_size):\n",
    "    l = left(i)\n",
    "    r = right(i)\n",
    "    # heap_size = len(A)\n",
    "    # print(f\"heap_size: {heap_size}\")\n",
    "    # print(f\"l: {l}\")\n",
    "    if (l <= heap_size) and (A[l] > A[i]):\n",
    "        largest = l\n",
    "    else: largest = i\n",
    "\n",
    "    if (r <= heap_size) and (A[r] > A[largest]):\n",
    "        largest = r\n",
    "    if (largest != i):\n",
    "        temp = A[i]\n",
    "        A[i] = A[largest]\n",
    "        A[largest] = temp\n",
    "        max_heapify(A, largest, heap_size)"
   ]
  },
  {
   "cell_type": "code",
   "execution_count": 47,
   "metadata": {},
   "outputs": [],
   "source": [
    "def build_max_heap(A):\n",
    "    # print(A)\n",
    "    heap_size = len(A)-1\n",
    "    # print(f\"heap_size = {heap_size}\")\n",
    "    for i in range((len(A)-1)//2, 0, -1):\n",
    "        # print(f\"i: {i}\")\n",
    "        max_heapify(A, i, heap_size)\n",
    "    "
   ]
  },
  {
   "cell_type": "code",
   "execution_count": 46,
   "metadata": {},
   "outputs": [],
   "source": [
    "import random\n",
    "import numpy as np\n",
    "\n",
    "def heapsort():\n",
    "    A = []\n",
    "    A.append(0)\n",
    "    for i in range(1,7):\n",
    "        A.append(random.randint(0,99))\n",
    "    print(f\"Original: {A}\")\n",
    "    \n",
    "    build_max_heap(A)\n",
    "    heap_size = len(A)-1\n",
    " \n",
    "    for i in range(len(A)-1, 1, -1):\n",
    "        temp = A[1]\n",
    "        A[1] = A[i]\n",
    "        A[i] = temp\n",
    "        heap_size = heap_size - 1\n",
    "        max_heapify(A, 1, heap_size)\n",
    "    print(f\"Heap sort: {A}\")\n",
    "    \n",
    "\n"
   ]
  },
  {
   "cell_type": "code",
   "execution_count": 50,
   "metadata": {},
   "outputs": [
    {
     "name": "stdout",
     "output_type": "stream",
     "text": [
      "Original: [0, 24, 70, 64, 62, 8, 88]\n",
      "Heap sort: [0, 8, 24, 62, 64, 70, 88]\n"
     ]
    }
   ],
   "source": [
    "heapsort()"
   ]
  }
 ],
 "metadata": {
  "kernelspec": {
   "display_name": "Python 3.9.12 ('base')",
   "language": "python",
   "name": "python3"
  },
  "language_info": {
   "codemirror_mode": {
    "name": "ipython",
    "version": 3
   },
   "file_extension": ".py",
   "mimetype": "text/x-python",
   "name": "python",
   "nbconvert_exporter": "python",
   "pygments_lexer": "ipython3",
   "version": "3.9.12"
  },
  "orig_nbformat": 4,
  "vscode": {
   "interpreter": {
    "hash": "1dff52ed5eb66d41db6b0821688acfe26c27aab3cd0947c44ec1f7cfc331699e"
   }
  }
 },
 "nbformat": 4,
 "nbformat_minor": 2
}
