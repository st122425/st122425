{
 "cells": [
  {
   "cell_type": "code",
   "execution_count": 91,
   "metadata": {},
   "outputs": [],
   "source": [
    "# use adjacency matrix (undirected)\n",
    "# why undirected?\n",
    "# use example 1\n",
    "#0, 1, 2, 3, 4\n",
    "G = [[0, 4, 0, 0, 0, 0, 0, 8, 0],\n",
    "     [4, 0, 8, 0, 0, 0, 0, 11, 0],\n",
    "     [0, 8, 0, 7, 0, 0, 0, 0, 2],\n",
    "     [0, 0, 7, 0, 9, 14, 0, 0, 0],\n",
    "     [0, 0, 0, 9, 0, 10, 0, 0, 0],\n",
    "     [0, 0, 4, 14, 10, 0, 2, 0, 0],\n",
    "     [0, 0, 0, 0, 0, 2, 0, 1, 6],\n",
    "     [8, 11, 0, 0, 0, 0, 1, 0, 7],\n",
    "     [0, 0, 2, 0, 0, 0, 6, 7, 0]\n",
    "     ]\n",
    "\n",
    "INF = 9999\n",
    "N   = 9\n",
    "\n",
    "#r.key = 0\n",
    "r   = 0\n"
   ]
  },
  {
   "cell_type": "code",
   "execution_count": 92,
   "metadata": {},
   "outputs": [],
   "source": [
    "# put all vertex into the queue\n",
    "# for each vertex\n",
    "# set key = infinity\n",
    "from heapdict import heapdict  # pip install heapdict or conda install heapdict\n",
    "\n",
    "Q = heapdict()\n",
    "for i in range(N):\n",
    "    Q[i] = INF\n",
    "Q[r] = 0\n",
    "\n",
    "# set pi  = NIL\n",
    "# pi = [None, None, None, None, None]\n",
    "pi = [None] * 9\n",
    "dist_uv = [0] * 9\n",
    "# set the pi of r = -1 or anything you like\n",
    "pi[r] = -1\n",
    "#print(f\"PI: {pi}\")\n"
   ]
  },
  {
   "cell_type": "code",
   "execution_count": 93,
   "metadata": {},
   "outputs": [],
   "source": [
    "def adj(G, u):\n",
    "    neighbors = []\n",
    "    \n",
    "    #for each vertex\n",
    "    for v in range(N):\n",
    "        #if G[u, v]\n",
    "        if G[u][v]:\n",
    "            #append to the neighbors\n",
    "            neighbors.append(v)\n",
    "    return neighbors\n",
    "\n"
   ]
  },
  {
   "cell_type": "code",
   "execution_count": 94,
   "metadata": {},
   "outputs": [],
   "source": [
    "def v_in_Q(Q, v):\n",
    "    #get the keys in Q\n",
    "    keys = list(Q.keys())   #you can actually do if v in Q:\n",
    "    #check if v in keys\n",
    "    return v in keys\n",
    "\n"
   ]
  },
  {
   "cell_type": "code",
   "execution_count": 95,
   "metadata": {},
   "outputs": [
    {
     "name": "stdout",
     "output_type": "stream",
     "text": [
      "[-1, 4, 12, 19, 21, 11, 9, 8, 14]\n"
     ]
    }
   ],
   "source": [
    "# while Q is not empty\n",
    "while(Q):  \n",
    "    #u = extract_min  (dict has no extract_min)\n",
    "    u  = Q.popitem()[0]  \n",
    "    \n",
    "    # for v in adj[u]\n",
    "    for v in adj(G, u):\n",
    "        # if v in Q, and w(u, v) < v.key\n",
    "        if (v_in_Q(Q, v) and G[u][v]+dist_uv[u] < Q[v]):\n",
    "            #v.pi = u\n",
    "            pi[v] = dist_uv[u] + G[u][v]\n",
    "            dist_uv[v] = dist_uv[u] + G[u][v]\n",
    "            #v.key = w(u, v)\n",
    "            Q[v]  = pi[v]\n",
    "\n",
    "print(pi)"
   ]
  }
 ],
 "metadata": {
  "kernelspec": {
   "display_name": "Python 3.9.12 ('base')",
   "language": "python",
   "name": "python3"
  },
  "language_info": {
   "codemirror_mode": {
    "name": "ipython",
    "version": 3
   },
   "file_extension": ".py",
   "mimetype": "text/x-python",
   "name": "python",
   "nbconvert_exporter": "python",
   "pygments_lexer": "ipython3",
   "version": "3.9.12"
  },
  "orig_nbformat": 4,
  "vscode": {
   "interpreter": {
    "hash": "1dff52ed5eb66d41db6b0821688acfe26c27aab3cd0947c44ec1f7cfc331699e"
   }
  }
 },
 "nbformat": 4,
 "nbformat_minor": 2
}
